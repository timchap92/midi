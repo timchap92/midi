{
 "cells": [
  {
   "cell_type": "code",
   "execution_count": 17,
   "metadata": {},
   "outputs": [],
   "source": [
    "import pretty_midi\n",
    "import pandas as pd\n",
    "import os\n",
    "from tqdm import tqdm_notebook\n",
    "import pickle\n",
    "import shutil\n",
    "import tensorflow as tf\n",
    "from tensorflow import keras\n",
    "import ast\n",
    "import numpy as np\n",
    "from collections import namedtuple"
   ]
  },
  {
   "cell_type": "markdown",
   "metadata": {},
   "source": [
    "# Create data"
   ]
  },
  {
   "cell_type": "code",
   "execution_count": 11,
   "metadata": {},
   "outputs": [],
   "source": [
    "metadata = pd.read_csv('data/maestro-v2.0.0/maestro-v2.0.0.csv')"
   ]
  },
  {
   "cell_type": "code",
   "execution_count": 14,
   "metadata": {},
   "outputs": [
    {
     "data": {
      "text/plain": [
       "1282"
      ]
     },
     "execution_count": 14,
     "metadata": {},
     "output_type": "execute_result"
    }
   ],
   "source": [
    "len(metadata)"
   ]
  },
  {
   "cell_type": "code",
   "execution_count": 19,
   "metadata": {},
   "outputs": [
    {
     "name": "stdout",
     "output_type": "stream",
     "text": [
      "346 ms ± 2.63 ms per loop (mean ± std. dev. of 7 runs, 1 loop each)\n"
     ]
    }
   ],
   "source": [
    "%timeit pretty_midi.PrettyMIDI(os.path.join('data/maestro-v2.0.0', row['midi_filename']))"
   ]
  },
  {
   "cell_type": "code",
   "execution_count": 21,
   "metadata": {},
   "outputs": [
    {
     "data": {
      "application/vnd.jupyter.widget-view+json": {
       "model_id": "326dcb6af3b445c8b4139a05b73c4cc1",
       "version_major": 2,
       "version_minor": 0
      },
      "text/plain": [
       "HBox(children=(IntProgress(value=0, max=1282), HTML(value='')))"
      ]
     },
     "metadata": {},
     "output_type": "display_data"
    }
   ],
   "source": [
    "songs = []\n",
    "for _, row in tqdm_notebook(list(metadata.iterrows())):\n",
    "    midi = pretty_midi.PrettyMIDI(os.path.join('data/maestro-v2.0.0', row['midi_filename']))\n",
    "    midi.split = row['split']\n",
    "    songs.append(midi)"
   ]
  },
  {
   "cell_type": "code",
   "execution_count": 33,
   "metadata": {},
   "outputs": [
    {
     "data": {
      "application/vnd.jupyter.widget-view+json": {
       "model_id": "a237b3d98af5460198bdceb9b3b94e32",
       "version_major": 2,
       "version_minor": 0
      },
      "text/plain": [
       "HBox(children=(IntProgress(value=0, max=1282), HTML(value='')))"
      ]
     },
     "metadata": {},
     "output_type": "display_data"
    }
   ],
   "source": [
    "shutil.rmtree('data/songs.txt', ignore_errors=True)\n",
    "for midi in tqdm_notebook(songs):\n",
    "    assert len(midi.instruments) == 1\n",
    "    with open('data/songs.txt', 'a') as f:\n",
    "        f.write('{split}#{tempo}#{notes}\\n'.format(\n",
    "            split=midi.split, tempo=midi.estimate_tempo(), \n",
    "            notes=[(n.start, n.end, n.pitch, n.velocity) for n in midi.instruments[0].notes]\n",
    "        ))"
   ]
  },
  {
   "cell_type": "markdown",
   "metadata": {},
   "source": [
    "# Create labelled dataset"
   ]
  },
  {
   "cell_type": "code",
   "execution_count": 18,
   "metadata": {},
   "outputs": [],
   "source": [
    "NoteTuple = namedtuple('NoteTuple', ['start', 'end', 'pitch', 'velocity'])"
   ]
  },
  {
   "cell_type": "code",
   "execution_count": 23,
   "metadata": {},
   "outputs": [],
   "source": [
    "def process_string(s):\n",
    "    split, tempo, notes = s.split('#')\n",
    "    tempo = float(tempo)\n",
    "    notes = [NoteTuple(*tpl) for tpl in ast.literal_eval(notes)]\n",
    "    return split, tempo, notes"
   ]
  },
  {
   "cell_type": "code",
   "execution_count": 24,
   "metadata": {},
   "outputs": [],
   "source": [
    "def create_features(notes, nb_timesteps):\n",
    "    sequences = []\n",
    "    labels = []\n",
    "    for i in range(nb_timesteps, len(notes)):\n",
    "        sequences.append(np.array([n.pitch for n in notes[i - nb_timesteps:i]]))\n",
    "        labels.append(notes[i].pitch)\n",
    "    return sequences, labels"
   ]
  },
  {
   "cell_type": "code",
   "execution_count": 25,
   "metadata": {},
   "outputs": [],
   "source": [
    "timesteps = 50"
   ]
  },
  {
   "cell_type": "code",
   "execution_count": 26,
   "metadata": {},
   "outputs": [],
   "source": [
    "x_train = []\n",
    "y_train = []\n",
    "x_validate = []\n",
    "y_validate = []"
   ]
  },
  {
   "cell_type": "code",
   "execution_count": 27,
   "metadata": {},
   "outputs": [],
   "source": [
    "nb_lines = 0\n",
    "with open('data/songs.txt') as f:\n",
    "    for line in f:\n",
    "        nb_lines += 1"
   ]
  },
  {
   "cell_type": "code",
   "execution_count": null,
   "metadata": {},
   "outputs": [
    {
     "data": {
      "application/vnd.jupyter.widget-view+json": {
       "model_id": "702d7b0603e0491ba60bcff6da1a8ff8",
       "version_major": 2,
       "version_minor": 0
      },
      "text/plain": [
       "HBox(children=(IntProgress(value=0, max=1341), HTML(value='')))"
      ]
     },
     "metadata": {},
     "output_type": "display_data"
    }
   ],
   "source": [
    "with open('data/songs.txt') as f:\n",
    "    for line in tqdm_notebook(f, total=nb_lines):\n",
    "        split, tempo, notes = process_string(line)\n",
    "        sequences, labels = create_features(notes, nb_timesteps=timesteps)\n",
    "        if split == 'train':\n",
    "            x_train.extend(sequences)\n",
    "            y_train.extend(labels)\n",
    "        elif split == 'validate':\n",
    "            x_validate.extend(sequences)\n",
    "            y_validate.extend(labels)"
   ]
  },
  {
   "cell_type": "code",
   "execution_count": null,
   "metadata": {},
   "outputs": [],
   "source": []
  }
 ],
 "metadata": {
  "kernelspec": {
   "display_name": "Python 3",
   "language": "python",
   "name": "python3"
  },
  "language_info": {
   "codemirror_mode": {
    "name": "ipython",
    "version": 3
   },
   "file_extension": ".py",
   "mimetype": "text/x-python",
   "name": "python",
   "nbconvert_exporter": "python",
   "pygments_lexer": "ipython3",
   "version": "3.5.3"
  }
 },
 "nbformat": 4,
 "nbformat_minor": 2
}
