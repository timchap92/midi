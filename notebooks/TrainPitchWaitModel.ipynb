{
 "cells": [
  {
   "cell_type": "code",
   "execution_count": 27,
   "metadata": {},
   "outputs": [],
   "source": [
    "from tqdm import tqdm_notebook\n",
    "import numpy as np\n",
    "import datetime as dt\n",
    "from google.cloud import storage\n",
    "import json\n",
    "\n",
    "import tensorflow as tf\n",
    "from tensorflow import keras\n",
    "from tensorflow.keras.utils import to_categorical\n",
    "from tensorflow.keras.models import Sequential, Model\n",
    "from tensorflow.keras.layers import LSTM, Dense, Dropout, Input, concatenate\n",
    "from tensorflow.keras.callbacks import EarlyStopping, ModelCheckpoint\n",
    "from tensorflow.keras.backend import exp"
   ]
  },
  {
   "cell_type": "code",
   "execution_count": 3,
   "metadata": {},
   "outputs": [],
   "source": [
    "class FeaturedNote:\n",
    "    \n",
    "    def __init__(self, pitch, wait, nb_pitches):\n",
    "        self.pitch = pitch\n",
    "        self.wait = wait\n",
    "        self.nb_pitches = nb_pitches\n",
    "    \n",
    "    @classmethod\n",
    "    def create_with_pitch_clipping(cls, pitch, wait, min_pitch, max_pitch):\n",
    "        nb_pitches = max_pitch - min_pitch + 1\n",
    "        if pitch is None:\n",
    "            # Starting note, use special out-of-bounds value\n",
    "            pitch = max_pitch - min_pitch\n",
    "        else:\n",
    "            pitch = constrain_pitch(pitch, min_pitch, max_pitch) - min_pitch\n",
    "            assert 0 <= pitch < max_pitch - min_pitch\n",
    "        \n",
    "        return cls(pitch, wait, nb_pitches)\n",
    "        \n",
    "    def __repr__(self):\n",
    "        return 'FeaturedNote(pitch={pitch}, wait={wait})'.format(**self.__dict__)\n",
    "    \n",
    "    def to_tuple(self):\n",
    "        return (self.pitch, self.wait, self.nb_pitches)\n",
    "    \n",
    "    @classmethod\n",
    "    def from_tuple(cls, tpl):\n",
    "        return cls(*tpl)\n",
    "        \n",
    "    def calculate_features(self):\n",
    "        pitch_features = [0] * self.nb_pitches\n",
    "        pitch_features[self.pitch] = 1\n",
    "        self.features = np.array(pitch_features + [self.wait])\n",
    "        self.pitch_label = np.array(pitch_features)"
   ]
  },
  {
   "cell_type": "code",
   "execution_count": 4,
   "metadata": {},
   "outputs": [],
   "source": [
    "def load_featured_songs_from_gs(filename):\n",
    "    storage_client = storage.Client()\n",
    "    bucket = storage_client.get_bucket('verbatim')\n",
    "    blob = bucket.blob('midi/data/featured_songs/{}'.format(filename))\n",
    "    s = blob.download_as_string().decode('utf-8')\n",
    "    lines = s.split('\\n')\n",
    "    print('Downloaded {lines} lines with metadata: {md}'.format(lines=len(lines) - 2, md=lines[0]))\n",
    "    fsongs = []\n",
    "    for line in tqdm_notebook(lines[1:-1]):\n",
    "        tpls = json.loads(line)\n",
    "        fsongs.append([FeaturedNote.from_tuple(tpl) for tpl in tpls])\n",
    "    \n",
    "    return fsongs"
   ]
  },
  {
   "cell_type": "code",
   "execution_count": 5,
   "metadata": {},
   "outputs": [
    {
     "name": "stdout",
     "output_type": "stream",
     "text": [
      "Downloaded 137 lines with metadata: {\"max_pitch\": 85, \"version\": 2, \"min_pitch\": 45}\n"
     ]
    },
    {
     "data": {
      "application/vnd.jupyter.widget-view+json": {
       "model_id": "73bf6f25696a4b1ba551ca7c19203e41",
       "version_major": 2,
       "version_minor": 0
      },
      "text/plain": [
       "HBox(children=(IntProgress(value=0, max=137), HTML(value='')))"
      ]
     },
     "metadata": {},
     "output_type": "display_data"
    },
    {
     "name": "stdout",
     "output_type": "stream",
     "text": [
      "\n"
     ]
    }
   ],
   "source": [
    "validation_fsongs = load_featured_songs_from_gs('validation_v2_2019-06-30_14:15:02.txt')"
   ]
  },
  {
   "cell_type": "code",
   "execution_count": 6,
   "metadata": {},
   "outputs": [
    {
     "name": "stdout",
     "output_type": "stream",
     "text": [
      "Downloaded 967 lines with metadata: {\"max_pitch\": 85, \"version\": 2, \"min_pitch\": 45}\n"
     ]
    },
    {
     "data": {
      "application/vnd.jupyter.widget-view+json": {
       "model_id": "2ef76835abbb413d99eb34face802486",
       "version_major": 2,
       "version_minor": 0
      },
      "text/plain": [
       "HBox(children=(IntProgress(value=0, max=967), HTML(value='')))"
      ]
     },
     "metadata": {},
     "output_type": "display_data"
    },
    {
     "name": "stdout",
     "output_type": "stream",
     "text": [
      "\n"
     ]
    }
   ],
   "source": [
    "train_fsongs = load_featured_songs_from_gs('train_v2_2019-06-30_14:15:19.txt')"
   ]
  },
  {
   "cell_type": "code",
   "execution_count": 7,
   "metadata": {},
   "outputs": [
    {
     "data": {
      "text/plain": [
       "[FeaturedNote(pitch=40, wait=0),\n",
       " FeaturedNote(pitch=40, wait=0),\n",
       " FeaturedNote(pitch=40, wait=0),\n",
       " FeaturedNote(pitch=40, wait=0),\n",
       " FeaturedNote(pitch=40, wait=0),\n",
       " FeaturedNote(pitch=40, wait=0),\n",
       " FeaturedNote(pitch=40, wait=0),\n",
       " FeaturedNote(pitch=40, wait=0),\n",
       " FeaturedNote(pitch=40, wait=0),\n",
       " FeaturedNote(pitch=40, wait=0),\n",
       " FeaturedNote(pitch=40, wait=0),\n",
       " FeaturedNote(pitch=40, wait=0),\n",
       " FeaturedNote(pitch=40, wait=0),\n",
       " FeaturedNote(pitch=40, wait=0),\n",
       " FeaturedNote(pitch=40, wait=0),\n",
       " FeaturedNote(pitch=40, wait=0),\n",
       " FeaturedNote(pitch=22, wait=1.0),\n",
       " FeaturedNote(pitch=27, wait=0.8007812499999999),\n",
       " FeaturedNote(pitch=16, wait=0.3632812500000001),\n",
       " FeaturedNote(pitch=22, wait=0.0),\n",
       " FeaturedNote(pitch=26, wait=0.0),\n",
       " FeaturedNote(pitch=33, wait=0.0),\n",
       " FeaturedNote(pitch=34, wait=1.9518229166666665),\n",
       " FeaturedNote(pitch=15, wait=0.645833333333333),\n",
       " FeaturedNote(pitch=22, wait=0.0),\n",
       " FeaturedNote(pitch=25, wait=0.0),\n",
       " FeaturedNote(pitch=34, wait=0.0),\n",
       " FeaturedNote(pitch=30, wait=0.46093749999999956),\n",
       " FeaturedNote(pitch=14, wait=0.3359375),\n",
       " FeaturedNote(pitch=22, wait=0.0)]"
      ]
     },
     "execution_count": 7,
     "metadata": {},
     "output_type": "execute_result"
    }
   ],
   "source": [
    "train_fsongs[0][0:30]"
   ]
  },
  {
   "cell_type": "code",
   "execution_count": 8,
   "metadata": {},
   "outputs": [],
   "source": [
    "def extract_sequences_for_wait_label(featured_songs, nb_notes_history):\n",
    "    \n",
    "    nb_datapoints = sum(len(fsong) - nb_notes_history for fsong in featured_songs)\n",
    "    \n",
    "    sequences = -1 * np.ones(shape=(nb_datapoints, nb_notes_history, nb_features))\n",
    "    pitches = -1 * np.ones(shape=(nb_datapoints, nb_pitches))\n",
    "    waits = -1 * np.ones(shape=(nb_datapoints,))\n",
    "    \n",
    "    data_index = 0\n",
    "    \n",
    "    for fsong in tqdm_notebook(featured_songs):\n",
    "        \n",
    "        for fnote in fsong:\n",
    "            fnote.calculate_features()\n",
    "            \n",
    "        for i in range(nb_notes_history, len(fsong)):\n",
    "            sequences[data_index] = np.array([fnote.features for fnote in fsong[i - nb_notes_history:i]])\n",
    "            pitches[data_index] = fsong[i].pitch_label\n",
    "            waits[data_index] = fsong[i].wait\n",
    "            data_index += 1\n",
    "    \n",
    "    return sequences, pitches, waits"
   ]
  },
  {
   "cell_type": "code",
   "execution_count": 9,
   "metadata": {},
   "outputs": [],
   "source": [
    "# Note featuring parameters\n",
    "min_pitch = 45  # inclusive\n",
    "max_pitch = 85  # exclusive\n",
    "nb_pitches = max_pitch - min_pitch + 1  # including out of bounds pitch\n",
    "nb_features = nb_pitches + 1  # including scalar continuous wait feature\n",
    "\n",
    "# Sequence featuring parameters\n",
    "nb_notes_history = 16"
   ]
  },
  {
   "cell_type": "code",
   "execution_count": 10,
   "metadata": {},
   "outputs": [
    {
     "data": {
      "application/vnd.jupyter.widget-view+json": {
       "model_id": "a103577673a64d7a9da341cf2eeaf7ac",
       "version_major": 2,
       "version_minor": 0
      },
      "text/plain": [
       "HBox(children=(IntProgress(value=0, max=137), HTML(value='')))"
      ]
     },
     "metadata": {},
     "output_type": "display_data"
    },
    {
     "name": "stdout",
     "output_type": "stream",
     "text": [
      "\n"
     ]
    }
   ],
   "source": [
    "validation_sequences, validation_pitches, validation_waits = extract_sequences_for_wait_label(validation_fsongs, nb_notes_history)"
   ]
  },
  {
   "cell_type": "code",
   "execution_count": 12,
   "metadata": {},
   "outputs": [
    {
     "data": {
      "application/vnd.jupyter.widget-view+json": {
       "model_id": "d6ec631241404f1cad317e6e7d405529",
       "version_major": 2,
       "version_minor": 0
      },
      "text/plain": [
       "HBox(children=(IntProgress(value=0, max=967), HTML(value='')))"
      ]
     },
     "metadata": {},
     "output_type": "display_data"
    },
    {
     "name": "stdout",
     "output_type": "stream",
     "text": [
      "\n"
     ]
    }
   ],
   "source": [
    "train_sequences, train_pitchs, train_waits = extract_sequences_for_wait_label(train_fsongs, nb_notes_history)"
   ]
  },
  {
   "cell_type": "code",
   "execution_count": 11,
   "metadata": {},
   "outputs": [
    {
     "data": {
      "text/plain": [
       "0.0"
      ]
     },
     "execution_count": 11,
     "metadata": {},
     "output_type": "execute_result"
    }
   ],
   "source": [
    "np.min(train_sequences)"
   ]
  },
  {
   "cell_type": "code",
   "execution_count": 18,
   "metadata": {},
   "outputs": [
    {
     "data": {
      "text/plain": [
       "0.0"
      ]
     },
     "execution_count": 18,
     "metadata": {},
     "output_type": "execute_result"
    }
   ],
   "source": [
    "np.min(train_pitches)"
   ]
  },
  {
   "cell_type": "code",
   "execution_count": 19,
   "metadata": {},
   "outputs": [
    {
     "data": {
      "text/plain": [
       "0.0"
      ]
     },
     "execution_count": 19,
     "metadata": {},
     "output_type": "execute_result"
    }
   ],
   "source": [
    "np.min(train_waits)"
   ]
  },
  {
   "cell_type": "code",
   "execution_count": 18,
   "metadata": {},
   "outputs": [],
   "source": [
    "model = Sequential()\n",
    "\n",
    "# Recurrent layer\n",
    "model.add(LSTM(32, input_shape=(nb_notes_history, nb_features),\n",
    "               return_sequences=False, dropout=0.1, recurrent_dropout=0.1))\n",
    "\n",
    "# Fully connected layer\n",
    "model.add(Dense(32, activation='relu'))\n",
    "\n",
    "# Dropout for regularization\n",
    "model.add(Dropout(0.5))\n",
    "\n",
    "# Output layer\n",
    "model.add(Dense(nb_pitches, activation='softmax'))\n",
    "\n",
    "# Compile the model\n",
    "model.compile(\n",
    "    optimizer='adam', loss='categorical_crossentropy', metrics=['accuracy'])"
   ]
  },
  {
   "cell_type": "code",
   "execution_count": 22,
   "metadata": {},
   "outputs": [],
   "source": [
    "sequential_input = Input(shape=(nb_notes_history, nb_features), \n",
    "                         dtype='float32', name='sequential_input')"
   ]
  },
  {
   "cell_type": "code",
   "execution_count": 23,
   "metadata": {},
   "outputs": [],
   "source": [
    "lstm = LSTM(32)(sequential_input)"
   ]
  },
  {
   "cell_type": "code",
   "execution_count": 24,
   "metadata": {},
   "outputs": [],
   "source": [
    "aux_input = Input(shape=(nb_pitches), dtype='float32', name='aux_input')"
   ]
  },
  {
   "cell_type": "code",
   "execution_count": 25,
   "metadata": {},
   "outputs": [],
   "source": [
    "concat = concatenate([lstm, aux_input])"
   ]
  },
  {
   "cell_type": "code",
   "execution_count": 26,
   "metadata": {},
   "outputs": [],
   "source": [
    "dense_1 = Dense(32, activation='relu')(concat)\n",
    "dense_2 = Dense(32, activation='relu')(dense_1)"
   ]
  },
  {
   "cell_type": "code",
   "execution_count": 30,
   "metadata": {},
   "outputs": [],
   "source": [
    "output = Dense(1, activation='linear')(dense_2)"
   ]
  },
  {
   "cell_type": "code",
   "execution_count": 38,
   "metadata": {},
   "outputs": [],
   "source": [
    "model = Model(inputs=[sequential_input, aux_input], outputs=[output])"
   ]
  },
  {
   "cell_type": "code",
   "execution_count": 39,
   "metadata": {},
   "outputs": [],
   "source": [
    "model.compile(optimizer='rmsprop', loss='mean_squared_error', metrics=['mae'])"
   ]
  },
  {
   "cell_type": "code",
   "execution_count": 40,
   "metadata": {},
   "outputs": [],
   "source": [
    "run_time = dt.datetime.now().strftime('%Y-%m-%d_%H:%M:%S')"
   ]
  },
  {
   "cell_type": "code",
   "execution_count": 41,
   "metadata": {},
   "outputs": [],
   "source": [
    "# Create callbacks\n",
    "callbacks = [keras.callbacks.TensorBoard(log_dir='../tb_logs/pitchbased_wait_model_{}'.format(run_time), histogram_freq=0, write_graph=True, write_grads=False, \n",
    "                                         write_images=False, embeddings_freq=0, embeddings_layer_names=None, embeddings_metadata=None, \n",
    "                                         embeddings_data=None, update_freq='batch'),\n",
    "             EarlyStopping(monitor='val_loss', patience=5),\n",
    "             ModelCheckpoint('../models/pitchbased_wait_model_{}.h5'.format(run_time), save_best_only=True, save_weights_only=False)]"
   ]
  },
  {
   "cell_type": "code",
   "execution_count": null,
   "metadata": {},
   "outputs": [
    {
     "name": "stdout",
     "output_type": "stream",
     "text": [
      "Train on 5726876 samples, validate on 639425 samples\n",
      "Epoch 1/50\n",
      "   4096/5726876 [..............................] - ETA: 27:32 - loss: 0.0284 - mae: 0.0873"
     ]
    },
    {
     "name": "stderr",
     "output_type": "stream",
     "text": [
      "W0630 16:12:22.281291 139887681095424 callbacks.py:241] Method (on_train_batch_end) is slow compared to the batch update (0.121788). Check your callbacks.\n"
     ]
    },
    {
     "name": "stdout",
     "output_type": "stream",
     "text": [
      "5726876/5726876 [==============================] - 162s 28us/sample - loss: 0.0466 - mae: 0.0781 - val_loss: 0.0450 - val_mae: 0.0872\n",
      "Epoch 2/50\n",
      "4128768/5726876 [====================>.........] - ETA: 42s - loss: 0.0455 - mae: 0.0751"
     ]
    }
   ],
   "source": [
    "history = model.fit([train_sequences, train_pitches],[train_waits], \n",
    "                    batch_size=4096, epochs=50,\n",
    "                    callbacks=callbacks,\n",
    "                    validation_data=([validation_sequences, validation_pitches],[validation_waits]))"
   ]
  },
  {
   "cell_type": "code",
   "execution_count": null,
   "metadata": {},
   "outputs": [],
   "source": []
  }
 ],
 "metadata": {
  "kernelspec": {
   "display_name": "Python 3",
   "language": "python",
   "name": "python3"
  },
  "language_info": {
   "codemirror_mode": {
    "name": "ipython",
    "version": 3
   },
   "file_extension": ".py",
   "mimetype": "text/x-python",
   "name": "python",
   "nbconvert_exporter": "python",
   "pygments_lexer": "ipython3",
   "version": "3.5.3"
  }
 },
 "nbformat": 4,
 "nbformat_minor": 2
}
