{
 "cells": [
  {
   "cell_type": "code",
   "execution_count": 143,
   "metadata": {},
   "outputs": [],
   "source": [
    "from tqdm import tqdm_notebook\n",
    "import ast\n",
    "import pretty_midi\n",
    "import numpy as np\n",
    "import datetime as dt\n",
    "from google.cloud import storage\n",
    "import json"
   ]
  },
  {
   "cell_type": "code",
   "execution_count": 2,
   "metadata": {},
   "outputs": [],
   "source": [
    "def process_string(s):\n",
    "    split, tempo, notes = s.split('#')\n",
    "    tempo = float(tempo)\n",
    "    notes = [pretty_midi.Note(start=tpl[0], end=tpl[1], pitch=tpl[2], velocity=tpl[3]) for tpl in ast.literal_eval(notes)]\n",
    "    return split, tempo, notes\n",
    "\n",
    "nb_songs = 0\n",
    "with open('../data/songs.txt') as f:\n",
    "    for line in f:\n",
    "        nb_songs += 1"
   ]
  },
  {
   "cell_type": "code",
   "execution_count": 104,
   "metadata": {},
   "outputs": [
    {
     "data": {
      "application/vnd.jupyter.widget-view+json": {
       "model_id": "b9998467f2d4440387bcfd6ee93d4572",
       "version_major": 2,
       "version_minor": 0
      },
      "text/plain": [
       "HBox(children=(IntProgress(value=0, max=1282), HTML(value='')))"
      ]
     },
     "metadata": {},
     "output_type": "display_data"
    },
    {
     "name": "stdout",
     "output_type": "stream",
     "text": [
      "\n"
     ]
    }
   ],
   "source": [
    "train_songs = []\n",
    "validation_songs = []\n",
    "with open('../data/songs.txt') as f:\n",
    "    for line in tqdm_notebook(f, total=nb_songs):\n",
    "        split, tempo, notes = process_string(line)\n",
    "        if split == 'train':\n",
    "            train_songs.append(notes)\n",
    "        elif split == 'validation':\n",
    "            validation_songs.append(notes)"
   ]
  },
  {
   "cell_type": "code",
   "execution_count": 105,
   "metadata": {},
   "outputs": [
    {
     "data": {
      "text/plain": [
       "[Note(start=1.016667, end=1.214583, pitch=48, velocity=40),\n",
       " Note(start=1.545833, end=1.780208, pitch=52, velocity=46),\n",
       " Note(start=1.000000, end=2.061458, pitch=79, velocity=72),\n",
       " Note(start=2.060417, end=2.183333, pitch=77, velocity=59),\n",
       " Note(start=2.047917, end=2.247917, pitch=48, velocity=35),\n",
       " Note(start=2.166667, end=2.257292, pitch=76, velocity=65),\n",
       " Note(start=2.262500, end=2.346875, pitch=74, velocity=69),\n",
       " Note(start=2.379167, end=2.622917, pitch=72, velocity=63),\n",
       " Note(start=2.508333, end=2.744792, pitch=50, velocity=44),\n",
       " Note(start=2.542708, end=2.764583, pitch=79, velocity=61)]"
      ]
     },
     "execution_count": 105,
     "metadata": {},
     "output_type": "execute_result"
    }
   ],
   "source": [
    "notes[0:10]"
   ]
  },
  {
   "cell_type": "code",
   "execution_count": 106,
   "metadata": {},
   "outputs": [],
   "source": [
    "def normalize_song(song, chord_time=0.05):\n",
    "    \n",
    "    song.sort(key=lambda note: note.start)\n",
    "    \n",
    "    # Songs all start at t=0\n",
    "    first_note_start = min(note.start for note in song)\n",
    "    last_note_time = -1  # every song begins after 1 second delay on a out-of-range note\n",
    "    for note in song:\n",
    "        note.start -= first_note_start\n",
    "        note.end -= first_note_start\n",
    "        assert note.start >= last_note_time  # check that notes are sorted\n",
    "\n",
    "        if note.start <= last_note_time + chord_time:  # simple algorithm to detect chords\n",
    "            note.start = last_note_time\n",
    "        else:\n",
    "            last_note_time = note.start\n",
    "\n",
    "    song.sort(key=lambda note: (note.start, note.pitch))\n",
    "    \n",
    "    return song"
   ]
  },
  {
   "cell_type": "code",
   "execution_count": 108,
   "metadata": {},
   "outputs": [
    {
     "data": {
      "application/vnd.jupyter.widget-view+json": {
       "model_id": "01a6f7d92d1f4fc081d590ffc457952a",
       "version_major": 2,
       "version_minor": 0
      },
      "text/plain": [
       "HBox(children=(IntProgress(value=0, max=1104), HTML(value='')))"
      ]
     },
     "metadata": {},
     "output_type": "display_data"
    },
    {
     "name": "stdout",
     "output_type": "stream",
     "text": [
      "\n"
     ]
    }
   ],
   "source": [
    "for song in tqdm_notebook(train_songs + validation_songs):\n",
    "    normalize_song(song)"
   ]
  },
  {
   "cell_type": "code",
   "execution_count": 109,
   "metadata": {},
   "outputs": [
    {
     "data": {
      "text/plain": [
       "[Note(start=0.000000, end=0.117188, pitch=52, velocity=33),\n",
       " Note(start=0.000000, end=0.139323, pitch=58, velocity=35),\n",
       " Note(start=0.000000, end=0.092448, pitch=62, velocity=30),\n",
       " Note(start=0.075521, end=0.192708, pitch=80, velocity=62),\n",
       " Note(start=0.363281, end=0.410156, pitch=81, velocity=70),\n",
       " Note(start=0.533854, end=0.579427, pitch=68, velocity=67),\n",
       " Note(start=0.533854, end=0.585938, pitch=82, velocity=72),\n",
       " Note(start=0.667969, end=0.751302, pitch=49, velocity=55),\n",
       " Note(start=0.667969, end=0.761719, pitch=55, velocity=18),\n",
       " Note(start=0.667969, end=0.697917, pitch=65, velocity=51),\n",
       " Note(start=0.667969, end=0.717448, pitch=69, velocity=58),\n",
       " Note(start=0.667969, end=0.709635, pitch=83, velocity=72),\n",
       " Note(start=0.802083, end=0.843750, pitch=70, velocity=76),\n",
       " Note(start=0.802083, end=0.863281, pitch=84, velocity=79),\n",
       " Note(start=0.858073, end=0.894531, pitch=46, velocity=57),\n",
       " Note(start=0.858073, end=0.921875, pitch=52, velocity=37),\n",
       " Note(start=0.914062, end=0.972656, pitch=62, velocity=58),\n",
       " Note(start=0.914062, end=0.975260, pitch=85, velocity=79),\n",
       " Note(start=1.042969, end=1.071615, pitch=68, velocity=73),\n",
       " Note(start=1.042969, end=1.076823, pitch=72, velocity=77)]"
      ]
     },
     "execution_count": 109,
     "metadata": {},
     "output_type": "execute_result"
    }
   ],
   "source": [
    "validation_songs[0][0:20]"
   ]
  },
  {
   "cell_type": "code",
   "execution_count": 110,
   "metadata": {},
   "outputs": [],
   "source": [
    "def constrain_pitch(pitch, min_pitch, max_pitch):\n",
    "    max_pitch -= 1  # exclusive\n",
    "    if pitch < min_pitch:\n",
    "        pitch = pitch % 12 + 12 * (min_pitch // 12) + 12\n",
    "        if pitch >= min_pitch + 12:\n",
    "            pitch -= 12\n",
    "        assert min_pitch <= pitch < min_pitch + 12\n",
    "        return pitch\n",
    "    if pitch > max_pitch:\n",
    "        pitch = pitch % 12 + 12 * (max_pitch // 12) - 12\n",
    "        if pitch <= max_pitch - 12:\n",
    "            pitch += 12\n",
    "        assert max_pitch - 12 < pitch <= max_pitch\n",
    "        return pitch\n",
    "    return pitch"
   ]
  },
  {
   "cell_type": "code",
   "execution_count": 144,
   "metadata": {},
   "outputs": [],
   "source": [
    "class FeaturedNote:\n",
    "    \n",
    "    def __init__(self, pitch, wait, nb_pitches):\n",
    "        self.pitch = pitch\n",
    "        self.wait = wait\n",
    "        self.nb_pitches = nb_pitches\n",
    "    \n",
    "    @classmethod\n",
    "    def create_with_pitch_clipping(cls, pitch, wait, min_pitch, max_pitch):\n",
    "        nb_pitches = max_pitch - min_pitch + 1\n",
    "        if pitch is None:\n",
    "            # Starting note, use special out-of-bounds value\n",
    "            pitch = max_pitch - min_pitch\n",
    "        else:\n",
    "            pitch = constrain_pitch(pitch, min_pitch, max_pitch) - min_pitch\n",
    "            assert 0 <= pitch < max_pitch - min_pitch\n",
    "        \n",
    "        return cls(pitch, wait, nb_pitches)\n",
    "        \n",
    "    def __repr__(self):\n",
    "        return 'FeaturedNote(pitch={pitch}, wait={wait})'.format(**self.__dict__)\n",
    "    \n",
    "    def to_tuple(self):\n",
    "        return (self.pitch, self.wait, self.nb_pitches)\n",
    "    \n",
    "    @classmethod\n",
    "    def from_tuple(cls, tpl):\n",
    "        return cls(*tpl)\n",
    "        \n",
    "    def calculate_features(self):\n",
    "        pitch_features = [0] * self.nb_pitches\n",
    "        pitch_features[self.pitch] = 1\n",
    "        self.features = np.array(pitch_features + [self.wait])\n",
    "        self.pitch_label = np.array(pitch_features)"
   ]
  },
  {
   "cell_type": "code",
   "execution_count": 145,
   "metadata": {},
   "outputs": [],
   "source": [
    "# Note featuring parameters\n",
    "min_pitch = 45  # inclusive\n",
    "max_pitch = 85  # exclusive\n",
    "nb_pitches = max_pitch - min_pitch + 1  # including out of bounds pitch\n",
    "nb_features = nb_pitches + 1  # including scalar continuous wait feature\n",
    "\n",
    "# Sequence featuring parameters\n",
    "nb_notes_history = 16"
   ]
  },
  {
   "cell_type": "code",
   "execution_count": 148,
   "metadata": {},
   "outputs": [],
   "source": [
    "def feature_notes(song, min_pitch, max_pitch, chord_time=0.05):\n",
    "\n",
    "    first_note = FeaturedNote.create_with_pitch_clipping(pitch=None, wait=0, min_pitch=min_pitch, max_pitch=max_pitch)\n",
    "    featured_notes = [first_note for i in range(nb_notes_history)]\n",
    "    previous_time = -1\n",
    "    for note in song:\n",
    "        wait = note.start - previous_time\n",
    "        fnote = FeaturedNote.create_with_pitch_clipping(note.pitch, wait, min_pitch=min_pitch, max_pitch=max_pitch)\n",
    "        featured_notes.append(fnote)\n",
    "        previous_time = note.start\n",
    "            \n",
    "    return featured_notes"
   ]
  },
  {
   "cell_type": "code",
   "execution_count": 185,
   "metadata": {},
   "outputs": [],
   "source": [
    "def extract_sequences_for_pitch_label(featured_songs, nb_notes_history):\n",
    "    \n",
    "    nb_datapoints = sum(len(fsong) for fsong in featured_songs)\n",
    "    \n",
    "    sequences = -1 * np.ones(shape=(nb_datapoints, nb_notes_history, nb_features))\n",
    "    pitch_labels = -1 * np.ones(shape=(nb_datapoints, nb_pitches))\n",
    "    wait_labels = -1 * np.ones(shape=(nb_datapoints,))\n",
    "    \n",
    "    data_index = 0\n",
    "    \n",
    "    for fsong in tqdm_notebook(featured_songs):\n",
    "        \n",
    "        for fnote in fsong:\n",
    "            fnote.calculate_features()\n",
    "            \n",
    "        for i in range(nb_notes_history, len(fsong)):\n",
    "            sequences[data_index] = np.array([fnote.features for fnote in fsong[i - nb_notes_history:i]])\n",
    "            pitch_labels[data_index] = fsong[i].pitch_label\n",
    "            data_index += 1\n",
    "    \n",
    "    return sequences, pitch_labels"
   ]
  },
  {
   "cell_type": "code",
   "execution_count": 150,
   "metadata": {},
   "outputs": [
    {
     "data": {
      "text/plain": [
       "[FeaturedNote(pitch=40, wait=0),\n",
       " FeaturedNote(pitch=40, wait=0),\n",
       " FeaturedNote(pitch=40, wait=0),\n",
       " FeaturedNote(pitch=40, wait=0),\n",
       " FeaturedNote(pitch=40, wait=0),\n",
       " FeaturedNote(pitch=40, wait=0),\n",
       " FeaturedNote(pitch=40, wait=0),\n",
       " FeaturedNote(pitch=40, wait=0),\n",
       " FeaturedNote(pitch=40, wait=0),\n",
       " FeaturedNote(pitch=40, wait=0),\n",
       " FeaturedNote(pitch=40, wait=0),\n",
       " FeaturedNote(pitch=40, wait=0),\n",
       " FeaturedNote(pitch=40, wait=0),\n",
       " FeaturedNote(pitch=40, wait=0),\n",
       " FeaturedNote(pitch=40, wait=0),\n",
       " FeaturedNote(pitch=40, wait=0),\n",
       " FeaturedNote(pitch=7, wait=1.0),\n",
       " FeaturedNote(pitch=13, wait=0.0),\n",
       " FeaturedNote(pitch=17, wait=0.0),\n",
       " FeaturedNote(pitch=35, wait=0.07552083333333326),\n",
       " FeaturedNote(pitch=36, wait=0.28776041666666674),\n",
       " FeaturedNote(pitch=23, wait=0.17057291666666652),\n",
       " FeaturedNote(pitch=37, wait=0.0),\n",
       " FeaturedNote(pitch=4, wait=0.13411458333333348),\n",
       " FeaturedNote(pitch=10, wait=0.0),\n",
       " FeaturedNote(pitch=20, wait=0.0),\n",
       " FeaturedNote(pitch=24, wait=0.0),\n",
       " FeaturedNote(pitch=38, wait=0.0),\n",
       " FeaturedNote(pitch=25, wait=0.13411458333333326),\n",
       " FeaturedNote(pitch=39, wait=0.0)]"
      ]
     },
     "execution_count": 150,
     "metadata": {},
     "output_type": "execute_result"
    }
   ],
   "source": [
    "feature_notes(validation_songs[0], min_pitch, max_pitch)[0:30]"
   ]
  },
  {
   "cell_type": "code",
   "execution_count": 151,
   "metadata": {},
   "outputs": [
    {
     "data": {
      "application/vnd.jupyter.widget-view+json": {
       "model_id": "e3a45b56c0c34c7a95947c91e7802e58",
       "version_major": 2,
       "version_minor": 0
      },
      "text/plain": [
       "HBox(children=(IntProgress(value=0, max=137), HTML(value='')))"
      ]
     },
     "metadata": {},
     "output_type": "display_data"
    }
   ],
   "source": [
    "validation_fsongs = [feature_notes(song, min_pitch, max_pitch) for song in tqdm_notebook(validation_songs)]"
   ]
  },
  {
   "cell_type": "code",
   "execution_count": 152,
   "metadata": {},
   "outputs": [
    {
     "data": {
      "application/vnd.jupyter.widget-view+json": {
       "model_id": "7f8a7627a8c04924916cf02fe8db98ed",
       "version_major": 2,
       "version_minor": 0
      },
      "text/plain": [
       "HBox(children=(IntProgress(value=0, max=967), HTML(value='')))"
      ]
     },
     "metadata": {},
     "output_type": "display_data"
    }
   ],
   "source": [
    "train_fsongs = [feature_notes(song, min_pitch, max_pitch) for song in tqdm_notebook(train_songs)]"
   ]
  },
  {
   "cell_type": "code",
   "execution_count": 157,
   "metadata": {},
   "outputs": [],
   "source": [
    "def dump_featured_songs_to_gs(fsongs, name, version):\n",
    "    storage_client = storage.Client()\n",
    "    bucket = storage_client.get_bucket('verbatim')\n",
    "    timestamp = dt.datetime.now().strftime('%Y-%m-%d_%H:%M:%S')\n",
    "    blob = bucket.blob('midi/data/featured_songs/{n}_v{v}_{ts}.txt'.format(n=name, v=version, ts=timestamp))\n",
    "\n",
    "    content = json.dumps({'version': version, 'min_pitch': min_pitch, 'max_pitch': max_pitch}) + '\\n'\n",
    "    for fsong in tqdm_notebook(fsongs):\n",
    "        content += json.dumps([fnote.to_tuple() for fnote in fsong]) + '\\n'\n",
    "        \n",
    "    blob.upload_from_string(content)"
   ]
  },
  {
   "cell_type": "code",
   "execution_count": 158,
   "metadata": {},
   "outputs": [
    {
     "data": {
      "application/vnd.jupyter.widget-view+json": {
       "model_id": "5cbac0f1a6cf45b39daa553cf25b3c07",
       "version_major": 2,
       "version_minor": 0
      },
      "text/plain": [
       "HBox(children=(IntProgress(value=0, max=137), HTML(value='')))"
      ]
     },
     "metadata": {},
     "output_type": "display_data"
    }
   ],
   "source": [
    "dump_featured_songs_to_gs(validation_fsongs, 'validation', 2)"
   ]
  },
  {
   "cell_type": "code",
   "execution_count": 159,
   "metadata": {},
   "outputs": [
    {
     "data": {
      "application/vnd.jupyter.widget-view+json": {
       "model_id": "14a2a441698f42c4b05c33bf5f162dc4",
       "version_major": 2,
       "version_minor": 0
      },
      "text/plain": [
       "HBox(children=(IntProgress(value=0, max=967), HTML(value='')))"
      ]
     },
     "metadata": {},
     "output_type": "display_data"
    }
   ],
   "source": [
    "dump_featured_songs_to_gs(train_fsongs, 'train', 2)"
   ]
  },
  {
   "cell_type": "code",
   "execution_count": 186,
   "metadata": {},
   "outputs": [
    {
     "data": {
      "application/vnd.jupyter.widget-view+json": {
       "model_id": "",
       "version_major": 2,
       "version_minor": 0
      },
      "text/plain": [
       "HBox(children=(IntProgress(value=0, max=137), HTML(value='')))"
      ]
     },
     "metadata": {},
     "output_type": "display_data"
    }
   ],
   "source": [
    "validation_sequences, validation_pitch = extract_sequences_for_pitch_label(validation_fsongs, nb_notes_history)"
   ]
  },
  {
   "cell_type": "code",
   "execution_count": 20,
   "metadata": {},
   "outputs": [
    {
     "data": {
      "application/vnd.jupyter.widget-view+json": {
       "model_id": "a134a3cac4884640b3e40425ebd1da3d",
       "version_major": 2,
       "version_minor": 0
      },
      "text/plain": [
       "HBox(children=(IntProgress(value=0, max=1010), HTML(value='')))"
      ]
     },
     "metadata": {},
     "output_type": "display_data"
    },
    {
     "name": "stdout",
     "output_type": "stream",
     "text": [
      "\n"
     ]
    }
   ],
   "source": [
    "train_sequences, train_pitch, train_wait = feature_songs(train_songs)"
   ]
  },
  {
   "cell_type": "code",
   "execution_count": 23,
   "metadata": {},
   "outputs": [
    {
     "data": {
      "text/plain": [
       "0.0"
      ]
     },
     "execution_count": 23,
     "metadata": {},
     "output_type": "execute_result"
    }
   ],
   "source": [
    "np.min(train_sequences)"
   ]
  },
  {
   "cell_type": "code",
   "execution_count": 22,
   "metadata": {},
   "outputs": [
    {
     "data": {
      "text/plain": [
       "(5996034, 41)"
      ]
     },
     "execution_count": 22,
     "metadata": {},
     "output_type": "execute_result"
    }
   ],
   "source": [
    "train_pitch.shape"
   ]
  },
  {
   "cell_type": "code",
   "execution_count": 24,
   "metadata": {},
   "outputs": [],
   "source": [
    "model = Sequential()\n",
    "\n",
    "# Recurrent layer\n",
    "model.add(LSTM(64, input_shape=(nb_notes_history, nb_features),\n",
    "               return_sequences=False, dropout=0.1, recurrent_dropout=0.1))\n",
    "\n",
    "# Fully connected layer\n",
    "model.add(Dense(64, activation='relu'))\n",
    "\n",
    "# Dropout for regularization\n",
    "model.add(Dropout(0.5))\n",
    "\n",
    "# Output layer\n",
    "model.add(Dense(nb_pitches, activation='softmax'))\n",
    "\n",
    "# Compile the model\n",
    "model.compile(\n",
    "    optimizer='adam', loss='categorical_crossentropy', metrics=['accuracy'])"
   ]
  },
  {
   "cell_type": "code",
   "execution_count": 25,
   "metadata": {},
   "outputs": [],
   "source": [
    "run_time = dt.datetime.now().strftime('%Y-%m-%d_%H:%M:%S')"
   ]
  },
  {
   "cell_type": "code",
   "execution_count": 26,
   "metadata": {},
   "outputs": [
    {
     "data": {
      "text/plain": [
       "'2019-06-30_00:19:50'"
      ]
     },
     "execution_count": 26,
     "metadata": {},
     "output_type": "execute_result"
    }
   ],
   "source": [
    "run_time"
   ]
  },
  {
   "cell_type": "code",
   "execution_count": 27,
   "metadata": {},
   "outputs": [],
   "source": [
    "# Create callbacks\n",
    "callbacks = [keras.callbacks.TensorBoard(log_dir='tb_logs/notebased_featuresv1_{}'.format(run_time), histogram_freq=0, write_graph=True, write_grads=False, \n",
    "                                         write_images=False, embeddings_freq=0, embeddings_layer_names=None, embeddings_metadata=None, \n",
    "                                         embeddings_data=None, update_freq='batch'),\n",
    "             EarlyStopping(monitor='val_loss', patience=5),\n",
    "             ModelCheckpoint('models/notebased_featuresv1_{}.h5'.format(run_time), save_best_only=True, save_weights_only=False)]"
   ]
  },
  {
   "cell_type": "code",
   "execution_count": 28,
   "metadata": {},
   "outputs": [
    {
     "data": {
      "text/plain": [
       "(5996034, 16, 42)"
      ]
     },
     "execution_count": 28,
     "metadata": {},
     "output_type": "execute_result"
    }
   ],
   "source": [
    "train_sequences.shape"
   ]
  },
  {
   "cell_type": "code",
   "execution_count": null,
   "metadata": {},
   "outputs": [
    {
     "name": "stderr",
     "output_type": "stream",
     "text": [
      "WARNING: Logging before flag parsing goes to stderr.\n",
      "W0630 00:20:39.629843 140479974627072 deprecation.py:323] From /usr/local/lib/python3.5/dist-packages/tensorflow/python/ops/math_grad.py:1250: add_dispatch_support.<locals>.wrapper (from tensorflow.python.ops.array_ops) is deprecated and will be removed in a future version.\n",
      "Instructions for updating:\n",
      "Use tf.where in 2.0, which has the same broadcast rule as np.where\n"
     ]
    },
    {
     "name": "stdout",
     "output_type": "stream",
     "text": [
      "Train on 5996034 samples, validate on 660126 samples\n",
      "Epoch 1/5\n",
      " 899072/5996034 [===>..........................] - ETA: 14:37 - loss: 3.3973 - accuracy: 0.0891"
     ]
    }
   ],
   "source": [
    "history = model.fit(train_sequences,  train_pitch, \n",
    "                    batch_size=2048, epochs=5,\n",
    "                    callbacks=callbacks,\n",
    "                    validation_data=(validation_sequences, validation_pitch))"
   ]
  },
  {
   "cell_type": "code",
   "execution_count": null,
   "metadata": {},
   "outputs": [],
   "source": []
  }
 ],
 "metadata": {
  "kernelspec": {
   "display_name": "Python 3",
   "language": "python",
   "name": "python3"
  },
  "language_info": {
   "codemirror_mode": {
    "name": "ipython",
    "version": 3
   },
   "file_extension": ".py",
   "mimetype": "text/x-python",
   "name": "python",
   "nbconvert_exporter": "python",
   "pygments_lexer": "ipython3",
   "version": "3.5.3"
  }
 },
 "nbformat": 4,
 "nbformat_minor": 2
}
