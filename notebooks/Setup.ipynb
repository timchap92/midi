{
 "cells": [
  {
   "cell_type": "markdown",
   "metadata": {},
   "source": [
    "# Install dependencies"
   ]
  },
  {
   "cell_type": "code",
   "execution_count": 25,
   "metadata": {},
   "outputs": [
    {
     "name": "stdout",
     "output_type": "stream",
     "text": [
      "Requirement already satisfied: pretty_midi in /home/jupyter/.local/lib/python3.5/site-packages\n",
      "Requirement already satisfied: bokeh in /home/jupyter/.local/lib/python3.5/site-packages\n",
      "Requirement already satisfied: mlflow in /home/jupyter/.local/lib/python3.5/site-packages\n",
      "Requirement already satisfied: google-cloud-storage in /usr/local/lib/python3.5/dist-packages\n",
      "Collecting cloudstorage\n",
      "  Downloading https://files.pythonhosted.org/packages/33/e4/bdfeabdfec580c4ddb9b6f2cfc3e32b6767308d3cee0cb84a85cf63599f1/cloudstorage-0.9.0-py3-none-any.whl (49kB)\n",
      "\u001b[K    100% |████████████████████████████████| 51kB 3.5MB/s \n",
      "\u001b[?25hRequirement already satisfied: mido>=1.1.16 in /home/jupyter/.local/lib/python3.5/site-packages (from pretty_midi)\n",
      "Requirement already satisfied: numpy>=1.7.0 in /usr/local/lib/python3.5/site-packages (from pretty_midi)\n",
      "Requirement already satisfied: six in /usr/local/lib/python3.5/dist-packages (from pretty_midi)\n",
      "Requirement already satisfied: Jinja2>=2.7 in /usr/local/lib/python3.5/dist-packages (from bokeh)\n",
      "Requirement already satisfied: packaging>=16.8 in /home/jupyter/.local/lib/python3.5/site-packages (from bokeh)\n",
      "Requirement already satisfied: PyYAML>=3.10 in /usr/local/lib/python3.5/dist-packages (from bokeh)\n",
      "Requirement already satisfied: tornado>=4.3 in /usr/local/lib/python3.5/dist-packages (from bokeh)\n",
      "Requirement already satisfied: pillow>=4.0 in /home/jupyter/.local/lib/python3.5/site-packages (from bokeh)\n",
      "Requirement already satisfied: python-dateutil>=2.1 in /usr/local/lib/python3.5/dist-packages (from bokeh)\n",
      "Requirement already satisfied: entrypoints in /usr/local/lib/python3.5/dist-packages (from mlflow)\n",
      "Requirement already satisfied: alembic in /home/jupyter/.local/lib/python3.5/site-packages (from mlflow)\n",
      "Requirement already satisfied: click>=7.0 in /usr/local/lib/python3.5/dist-packages (from mlflow)\n",
      "Requirement already satisfied: gitpython>=2.1.0 in /usr/local/lib/python3.5/dist-packages (from mlflow)\n",
      "Requirement already satisfied: pandas in /usr/local/lib/python3.5/dist-packages (from mlflow)\n",
      "Requirement already satisfied: querystring-parser in /home/jupyter/.local/lib/python3.5/site-packages (from mlflow)\n",
      "Requirement already satisfied: simplejson in /home/jupyter/.local/lib/python3.5/site-packages (from mlflow)\n",
      "Requirement already satisfied: Flask in /home/jupyter/.local/lib/python3.5/site-packages (from mlflow)\n",
      "Requirement already satisfied: cloudpickle in /usr/local/lib/python3.5/dist-packages (from mlflow)\n",
      "Requirement already satisfied: protobuf>=3.6.0 in /usr/local/lib/python3.5/dist-packages (from mlflow)\n",
      "Requirement already satisfied: sqlalchemy in /usr/local/lib/python3.5/dist-packages (from mlflow)\n",
      "Requirement already satisfied: databricks-cli>=0.8.0 in /home/jupyter/.local/lib/python3.5/site-packages (from mlflow)\n",
      "Requirement already satisfied: sqlparse in /usr/local/lib/python3.5/dist-packages (from mlflow)\n",
      "Requirement already satisfied: gunicorn in /home/jupyter/.local/lib/python3.5/site-packages (from mlflow)\n",
      "Requirement already satisfied: docker>=3.6.0 in /usr/local/lib/python3.5/dist-packages (from mlflow)\n",
      "Requirement already satisfied: requests>=2.17.3 in /usr/local/lib/python3.5/dist-packages (from mlflow)\n",
      "Requirement already satisfied: google-resumable-media>=0.3.1 in /usr/local/lib/python3.5/dist-packages (from google-cloud-storage)\n",
      "Requirement already satisfied: google-cloud-core<2.0dev,>=1.0.0 in /usr/local/lib/python3.5/dist-packages (from google-cloud-storage)\n",
      "Requirement already satisfied: google-auth>=1.2.0 in /usr/local/lib/python3.5/dist-packages (from google-cloud-storage)\n",
      "Collecting python-magic>=0.4.15 (from cloudstorage)\n",
      "  Downloading https://files.pythonhosted.org/packages/42/a1/76d30c79992e3750dac6790ce16f056f870d368ba142f83f75f694d93001/python_magic-0.4.15-py2.py3-none-any.whl\n",
      "Collecting inflection>=0.3.1 (from cloudstorage)\n",
      "  Downloading https://files.pythonhosted.org/packages/d5/35/a6eb45b4e2356fe688b21570864d4aa0d0a880ce387defe9c589112077f8/inflection-0.3.1.tar.gz\n",
      "Requirement already satisfied: mkl-fft in /usr/local/lib/python3.5/dist-packages (from numpy>=1.7.0->pretty_midi)\n",
      "Requirement already satisfied: mkl-random in /usr/local/lib/python3.5/dist-packages (from numpy>=1.7.0->pretty_midi)\n",
      "Requirement already satisfied: mkl in /usr/local/lib/python3.5/dist-packages (from numpy>=1.7.0->pretty_midi)\n",
      "Requirement already satisfied: icc-rt in /usr/local/lib/python3.5/dist-packages (from numpy>=1.7.0->pretty_midi)\n",
      "Requirement already satisfied: tbb4py in /usr/local/lib/python3.5/dist-packages (from numpy>=1.7.0->pretty_midi)\n",
      "Requirement already satisfied: MarkupSafe>=0.23 in /usr/local/lib/python3.5/dist-packages (from Jinja2>=2.7->bokeh)\n",
      "Requirement already satisfied: pyparsing>=2.0.2 in /usr/local/lib/python3.5/dist-packages (from packaging>=16.8->bokeh)\n",
      "Requirement already satisfied: python-editor>=0.3 in /home/jupyter/.local/lib/python3.5/site-packages (from alembic->mlflow)\n",
      "Requirement already satisfied: Mako in /home/jupyter/.local/lib/python3.5/site-packages (from alembic->mlflow)\n",
      "Requirement already satisfied: gitdb2>=2.0.0 in /usr/local/lib/python3.5/dist-packages (from gitpython>=2.1.0->mlflow)\n",
      "Requirement already satisfied: pytz>=2011k in /usr/local/lib/python3.5/dist-packages (from pandas->mlflow)\n",
      "Requirement already satisfied: Werkzeug>=0.14 in /usr/local/lib/python3.5/dist-packages (from Flask->mlflow)\n",
      "Requirement already satisfied: itsdangerous>=0.24 in /home/jupyter/.local/lib/python3.5/site-packages (from Flask->mlflow)\n",
      "Requirement already satisfied: setuptools in /usr/local/lib/python3.5/dist-packages (from protobuf>=3.6.0->mlflow)\n",
      "Requirement already satisfied: tabulate>=0.7.7 in /home/jupyter/.local/lib/python3.5/site-packages (from databricks-cli>=0.8.0->mlflow)\n",
      "Requirement already satisfied: configparser>=0.3.5 in /usr/local/lib/python3.5/dist-packages (from databricks-cli>=0.8.0->mlflow)\n",
      "Requirement already satisfied: websocket-client>=0.32.0 in /usr/local/lib/python3.5/dist-packages (from docker>=3.6.0->mlflow)\n",
      "Requirement already satisfied: certifi>=2017.4.17 in /usr/local/lib/python3.5/dist-packages (from requests>=2.17.3->mlflow)\n",
      "Requirement already satisfied: urllib3!=1.25.0,!=1.25.1,<1.26,>=1.21.1 in /usr/local/lib/python3.5/dist-packages (from requests>=2.17.3->mlflow)\n",
      "Requirement already satisfied: idna<2.9,>=2.5 in /usr/local/lib/python3.5/dist-packages (from requests>=2.17.3->mlflow)\n",
      "Requirement already satisfied: chardet<3.1.0,>=3.0.2 in /usr/local/lib/python3.5/dist-packages (from requests>=2.17.3->mlflow)\n",
      "Requirement already satisfied: google-api-core<2.0.0dev,>=1.11.0 in /usr/local/lib/python3.5/dist-packages (from google-cloud-core<2.0dev,>=1.0.0->google-cloud-storage)\n",
      "Requirement already satisfied: cachetools>=2.0.0 in /usr/local/lib/python3.5/dist-packages (from google-auth>=1.2.0->google-cloud-storage)\n",
      "Requirement already satisfied: pyasn1-modules>=0.2.1 in /usr/local/lib/python3.5/dist-packages (from google-auth>=1.2.0->google-cloud-storage)\n",
      "Requirement already satisfied: rsa>=3.1.4 in /usr/local/lib/python3.5/dist-packages (from google-auth>=1.2.0->google-cloud-storage)\n",
      "Requirement already satisfied: intel-numpy in /usr/local/lib/python3.5/dist-packages (from mkl-fft->numpy>=1.7.0->pretty_midi)\n",
      "Requirement already satisfied: intel-openmp in /usr/local/lib/python3.5/dist-packages (from mkl->numpy>=1.7.0->pretty_midi)\n",
      "Requirement already satisfied: tbb==2019.* in /usr/local/lib/python3.5/dist-packages (from tbb4py->numpy>=1.7.0->pretty_midi)\n",
      "Requirement already satisfied: smmap2>=2.0.0 in /usr/local/lib/python3.5/dist-packages (from gitdb2>=2.0.0->gitpython>=2.1.0->mlflow)\n",
      "Requirement already satisfied: googleapis-common-protos!=1.5.4,<2.0dev,>=1.5.3 in /usr/local/lib/python3.5/dist-packages (from google-api-core<2.0.0dev,>=1.11.0->google-cloud-core<2.0dev,>=1.0.0->google-cloud-storage)\n",
      "Requirement already satisfied: pyasn1<0.5.0,>=0.4.1 in /usr/local/lib/python3.5/dist-packages (from pyasn1-modules>=0.2.1->google-auth>=1.2.0->google-cloud-storage)\n",
      "Building wheels for collected packages: inflection\n",
      "  Running setup.py bdist_wheel for inflection ... \u001b[?25ldone\n",
      "\u001b[?25h  Stored in directory: /home/jupyter/.cache/pip/wheels/9f/5a/d3/6fc3bf6516d2a3eb7e18f9f28b472110b59325f3f258fe9211\n",
      "Successfully built inflection\n",
      "Installing collected packages: python-magic, inflection, cloudstorage\n",
      "Successfully installed cloudstorage-0.9.0 inflection-0.3.1 python-magic-0.4.15\n"
     ]
    }
   ],
   "source": [
    "!pip3 install pretty_midi bokeh mlflow google-cloud-storage cloudstorage"
   ]
  },
  {
   "cell_type": "markdown",
   "metadata": {},
   "source": [
    "# Fetch and clean data"
   ]
  },
  {
   "cell_type": "code",
   "execution_count": 23,
   "metadata": {},
   "outputs": [],
   "source": [
    "import pandas as pd\n",
    "from tqdm import tqdm_notebook\n",
    "import pretty_midi\n",
    "import os\n",
    "import shutil"
   ]
  },
  {
   "cell_type": "code",
   "execution_count": 1,
   "metadata": {},
   "outputs": [
    {
     "name": "stdout",
     "output_type": "stream",
     "text": [
      "--2019-06-30 12:37:23--  https://storage.googleapis.com/magentadata/datasets/maestro/v2.0.0/maestro-v2.0.0-midi.zip\n",
      "Resolving storage.googleapis.com (storage.googleapis.com)... 64.233.166.128, 2a00:1450:400c:c0a::80\n",
      "Connecting to storage.googleapis.com (storage.googleapis.com)|64.233.166.128|:443... connected.\n",
      "HTTP request sent, awaiting response... 200 OK\n",
      "Length: 59243107 (56M) [application/zip]\n",
      "Saving to: ‘../data/maestro-v2.0.0-midi.zip’\n",
      "\n",
      "maestro-v2.0.0-midi 100%[===================>]  56.50M  64.9MB/s    in 0.9s    \n",
      "\n",
      "2019-06-30 12:37:25 (64.9 MB/s) - ‘../data/maestro-v2.0.0-midi.zip’ saved [59243107/59243107]\n",
      "\n"
     ]
    }
   ],
   "source": [
    "!wget -P ../data https://storage.googleapis.com/magentadata/datasets/maestro/v2.0.0/maestro-v2.0.0-midi.zip"
   ]
  },
  {
   "cell_type": "code",
   "execution_count": null,
   "metadata": {},
   "outputs": [],
   "source": [
    "!unzip ../data/maestro-v2.0.0-midi.zip -d ../data"
   ]
  },
  {
   "cell_type": "code",
   "execution_count": 5,
   "metadata": {},
   "outputs": [],
   "source": [
    "metadata = pd.read_csv('../data/maestro-v2.0.0/maestro-v2.0.0.csv')"
   ]
  },
  {
   "cell_type": "code",
   "execution_count": 6,
   "metadata": {},
   "outputs": [
    {
     "data": {
      "text/plain": [
       "1282"
      ]
     },
     "execution_count": 6,
     "metadata": {},
     "output_type": "execute_result"
    }
   ],
   "source": [
    "len(metadata)"
   ]
  },
  {
   "cell_type": "code",
   "execution_count": 14,
   "metadata": {},
   "outputs": [
    {
     "data": {
      "application/vnd.jupyter.widget-view+json": {
       "model_id": "5ba56d8de5574d27bd7279404902e93a",
       "version_major": 2,
       "version_minor": 0
      },
      "text/plain": [
       "HBox(children=(IntProgress(value=0, max=1282), HTML(value='')))"
      ]
     },
     "metadata": {},
     "output_type": "display_data"
    },
    {
     "name": "stdout",
     "output_type": "stream",
     "text": [
      "\n"
     ]
    }
   ],
   "source": [
    "songs = []\n",
    "for _, row in tqdm_notebook(list(metadata.iterrows())):\n",
    "    midi = pretty_midi.PrettyMIDI(os.path.join('../data/maestro-v2.0.0', row['midi_filename']))\n",
    "    midi.split = row['split']\n",
    "    songs.append(midi)"
   ]
  },
  {
   "cell_type": "code",
   "execution_count": 18,
   "metadata": {},
   "outputs": [
    {
     "data": {
      "application/vnd.jupyter.widget-view+json": {
       "model_id": "9656c7bf35264412a7c6775a352714f6",
       "version_major": 2,
       "version_minor": 0
      },
      "text/plain": [
       "HBox(children=(IntProgress(value=0, max=1282), HTML(value='')))"
      ]
     },
     "metadata": {},
     "output_type": "display_data"
    },
    {
     "name": "stdout",
     "output_type": "stream",
     "text": [
      "\n"
     ]
    }
   ],
   "source": [
    "shutil.rmtree('../data/songs.txt', ignore_errors=True)\n",
    "with open('../data/songs.txt', 'w') as f:\n",
    "    for midi in tqdm_notebook(songs):\n",
    "        assert len(midi.instruments) == 1\n",
    "        f.write('{split}#{tempo}#{notes}\\n'.format(\n",
    "            split=midi.split, tempo=midi.estimate_tempo(), \n",
    "            notes=[(n.start, n.end, n.pitch, n.velocity) for n in midi.instruments[0].notes]\n",
    "        ))"
   ]
  },
  {
   "cell_type": "code",
   "execution_count": null,
   "metadata": {},
   "outputs": [],
   "source": []
  }
 ],
 "metadata": {
  "kernelspec": {
   "display_name": "Python 3",
   "language": "python",
   "name": "python3"
  },
  "language_info": {
   "codemirror_mode": {
    "name": "ipython",
    "version": 3
   },
   "file_extension": ".py",
   "mimetype": "text/x-python",
   "name": "python",
   "nbconvert_exporter": "python",
   "pygments_lexer": "ipython3",
   "version": "3.5.3"
  }
 },
 "nbformat": 4,
 "nbformat_minor": 2
}
