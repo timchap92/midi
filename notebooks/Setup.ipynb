{
 "cells": [
  {
   "cell_type": "markdown",
   "metadata": {},
   "source": [
    "# Install dependencies"
   ]
  },
  {
   "cell_type": "code",
   "execution_count": 21,
   "metadata": {},
   "outputs": [
    {
     "name": "stdout",
     "output_type": "stream",
     "text": [
      "Requirement already satisfied: pretty_midi in /home/jupyter/.local/lib/python3.5/site-packages\n",
      "Requirement already satisfied: bokeh in /home/jupyter/.local/lib/python3.5/site-packages\n",
      "Collecting mlflow\n",
      "  Downloading https://files.pythonhosted.org/packages/01/ec/8c9448968d4662e8354b9c3a62e635f8929ed507a45af3d9fdb84be51270/mlflow-1.0.0-py3-none-any.whl (47.7MB)\n",
      "\u001b[K    100% |████████████████████████████████| 47.7MB 27kB/s \n",
      "\u001b[?25hRequirement already satisfied: numpy>=1.7.0 in /usr/local/lib/python3.5/site-packages (from pretty_midi)\n",
      "Requirement already satisfied: six in /usr/local/lib/python3.5/dist-packages (from pretty_midi)\n",
      "Requirement already satisfied: mido>=1.1.16 in /home/jupyter/.local/lib/python3.5/site-packages (from pretty_midi)\n",
      "Requirement already satisfied: pillow>=4.0 in /home/jupyter/.local/lib/python3.5/site-packages (from bokeh)\n",
      "Requirement already satisfied: Jinja2>=2.7 in /usr/local/lib/python3.5/dist-packages (from bokeh)\n",
      "Requirement already satisfied: tornado>=4.3 in /usr/local/lib/python3.5/dist-packages (from bokeh)\n",
      "Requirement already satisfied: packaging>=16.8 in /home/jupyter/.local/lib/python3.5/site-packages (from bokeh)\n",
      "Requirement already satisfied: python-dateutil>=2.1 in /usr/local/lib/python3.5/dist-packages (from bokeh)\n",
      "Requirement already satisfied: PyYAML>=3.10 in /usr/local/lib/python3.5/dist-packages (from bokeh)\n",
      "Requirement already satisfied: click>=7.0 in /usr/local/lib/python3.5/dist-packages (from mlflow)\n",
      "Requirement already satisfied: requests>=2.17.3 in /usr/local/lib/python3.5/dist-packages (from mlflow)\n",
      "Requirement already satisfied: pandas in /usr/local/lib/python3.5/dist-packages (from mlflow)\n",
      "Requirement already satisfied: gitpython>=2.1.0 in /usr/local/lib/python3.5/dist-packages (from mlflow)\n",
      "Collecting databricks-cli>=0.8.0 (from mlflow)\n",
      "  Downloading https://files.pythonhosted.org/packages/5f/38/f83bc71c5e7351a03e8d44aaf04647d076bbf8f097e3f93b921704b7a74c/databricks_cli-0.8.7-py3-none-any.whl (82kB)\n",
      "\u001b[K    100% |████████████████████████████████| 92kB 12.8MB/s \n",
      "\u001b[?25hCollecting simplejson (from mlflow)\n",
      "  Downloading https://files.pythonhosted.org/packages/e3/24/c35fb1c1c315fc0fffe61ea00d3f88e85469004713dab488dee4f35b0aff/simplejson-3.16.0.tar.gz (81kB)\n",
      "\u001b[K    100% |████████████████████████████████| 81kB 11.2MB/s \n",
      "\u001b[?25hRequirement already satisfied: docker>=3.6.0 in /usr/local/lib/python3.5/dist-packages (from mlflow)\n",
      "Requirement already satisfied: sqlalchemy in /usr/local/lib/python3.5/dist-packages (from mlflow)\n",
      "Collecting gunicorn (from mlflow)\n",
      "  Downloading https://files.pythonhosted.org/packages/8c/da/b8dd8deb741bff556db53902d4706774c8e1e67265f69528c14c003644e6/gunicorn-19.9.0-py2.py3-none-any.whl (112kB)\n",
      "\u001b[K    100% |████████████████████████████████| 122kB 11.0MB/s \n",
      "\u001b[?25hRequirement already satisfied: entrypoints in /usr/local/lib/python3.5/dist-packages (from mlflow)\n",
      "Requirement already satisfied: protobuf>=3.6.0 in /usr/local/lib/python3.5/dist-packages (from mlflow)\n",
      "Collecting querystring-parser (from mlflow)\n",
      "  Downloading https://files.pythonhosted.org/packages/57/64/3086a9a991ff3aca7b769f5b0b51ff8445a06337ae2c58f215bcee48f527/querystring_parser-1.2.3.tar.gz\n",
      "Requirement already satisfied: sqlparse in /usr/local/lib/python3.5/dist-packages (from mlflow)\n",
      "Requirement already satisfied: cloudpickle in /usr/local/lib/python3.5/dist-packages (from mlflow)\n",
      "Collecting alembic (from mlflow)\n",
      "  Downloading https://files.pythonhosted.org/packages/7b/8b/0c98c378d93165d9809193f274c3c6e2151120d955b752419c7d43e4d857/alembic-1.0.11.tar.gz (1.0MB)\n",
      "\u001b[K    100% |████████████████████████████████| 1.0MB 1.5MB/s \n",
      "\u001b[?25hCollecting Flask (from mlflow)\n",
      "  Downloading https://files.pythonhosted.org/packages/9a/74/670ae9737d14114753b8c8fdf2e8bd212a05d3b361ab15b44937dfd40985/Flask-1.0.3-py2.py3-none-any.whl (92kB)\n",
      "\u001b[K    100% |████████████████████████████████| 92kB 11.4MB/s \n",
      "\u001b[?25hRequirement already satisfied: icc-rt in /usr/local/lib/python3.5/dist-packages (from numpy>=1.7.0->pretty_midi)\n",
      "Requirement already satisfied: mkl-fft in /usr/local/lib/python3.5/dist-packages (from numpy>=1.7.0->pretty_midi)\n",
      "Requirement already satisfied: mkl in /usr/local/lib/python3.5/dist-packages (from numpy>=1.7.0->pretty_midi)\n",
      "Requirement already satisfied: tbb4py in /usr/local/lib/python3.5/dist-packages (from numpy>=1.7.0->pretty_midi)\n",
      "Requirement already satisfied: mkl-random in /usr/local/lib/python3.5/dist-packages (from numpy>=1.7.0->pretty_midi)\n",
      "Requirement already satisfied: MarkupSafe>=0.23 in /usr/local/lib/python3.5/dist-packages (from Jinja2>=2.7->bokeh)\n",
      "Requirement already satisfied: pyparsing>=2.0.2 in /usr/local/lib/python3.5/dist-packages (from packaging>=16.8->bokeh)\n",
      "Requirement already satisfied: idna<2.9,>=2.5 in /usr/local/lib/python3.5/dist-packages (from requests>=2.17.3->mlflow)\n",
      "Requirement already satisfied: chardet<3.1.0,>=3.0.2 in /usr/local/lib/python3.5/dist-packages (from requests>=2.17.3->mlflow)\n",
      "Requirement already satisfied: urllib3!=1.25.0,!=1.25.1,<1.26,>=1.21.1 in /usr/local/lib/python3.5/dist-packages (from requests>=2.17.3->mlflow)\n",
      "Requirement already satisfied: certifi>=2017.4.17 in /usr/local/lib/python3.5/dist-packages (from requests>=2.17.3->mlflow)\n",
      "Requirement already satisfied: pytz>=2011k in /usr/local/lib/python3.5/dist-packages (from pandas->mlflow)\n",
      "Requirement already satisfied: gitdb2>=2.0.0 in /usr/local/lib/python3.5/dist-packages (from gitpython>=2.1.0->mlflow)\n",
      "Requirement already satisfied: configparser>=0.3.5 in /usr/local/lib/python3.5/dist-packages (from databricks-cli>=0.8.0->mlflow)\n",
      "Collecting tabulate>=0.7.7 (from databricks-cli>=0.8.0->mlflow)\n",
      "  Downloading https://files.pythonhosted.org/packages/c2/fd/202954b3f0eb896c53b7b6f07390851b1fd2ca84aa95880d7ae4f434c4ac/tabulate-0.8.3.tar.gz (46kB)\n",
      "\u001b[K    100% |████████████████████████████████| 51kB 11.9MB/s \n",
      "\u001b[?25hRequirement already satisfied: websocket-client>=0.32.0 in /usr/local/lib/python3.5/dist-packages (from docker>=3.6.0->mlflow)\n",
      "Requirement already satisfied: setuptools in /usr/local/lib/python3.5/dist-packages (from protobuf>=3.6.0->mlflow)\n",
      "Collecting Mako (from alembic->mlflow)\n",
      "  Downloading https://files.pythonhosted.org/packages/0a/af/a6d8aa7b8909a36074f517b15222e3a2fbd5ef3452c0a686e3d43043dd3b/Mako-1.0.12.tar.gz (460kB)\n",
      "\u001b[K    100% |████████████████████████████████| 460kB 3.0MB/s \n",
      "\u001b[?25hCollecting python-editor>=0.3 (from alembic->mlflow)\n",
      "  Downloading https://files.pythonhosted.org/packages/c6/d3/201fc3abe391bbae6606e6f1d598c15d367033332bd54352b12f35513717/python_editor-1.0.4-py3-none-any.whl\n",
      "Collecting itsdangerous>=0.24 (from Flask->mlflow)\n",
      "  Downloading https://files.pythonhosted.org/packages/76/ae/44b03b253d6fade317f32c24d100b3b35c2239807046a4c953c7b89fa49e/itsdangerous-1.1.0-py2.py3-none-any.whl\n",
      "Requirement already satisfied: Werkzeug>=0.14 in /usr/local/lib/python3.5/dist-packages (from Flask->mlflow)\n",
      "Requirement already satisfied: intel-openmp in /usr/local/lib/python3.5/dist-packages (from icc-rt->numpy>=1.7.0->pretty_midi)\n",
      "Requirement already satisfied: intel-numpy in /usr/local/lib/python3.5/dist-packages (from mkl-fft->numpy>=1.7.0->pretty_midi)\n",
      "Requirement already satisfied: tbb==2019.* in /usr/local/lib/python3.5/dist-packages (from tbb4py->numpy>=1.7.0->pretty_midi)\n",
      "Requirement already satisfied: smmap2>=2.0.0 in /usr/local/lib/python3.5/dist-packages (from gitdb2>=2.0.0->gitpython>=2.1.0->mlflow)\n",
      "Building wheels for collected packages: simplejson, querystring-parser, alembic, tabulate, Mako\n",
      "  Running setup.py bdist_wheel for simplejson ... \u001b[?25ldone\n",
      "\u001b[?25h  Stored in directory: /home/jupyter/.cache/pip/wheels/5d/1a/1e/0350bb3df3e74215cd91325344cc86c2c691f5306eb4d22c77\n",
      "  Running setup.py bdist_wheel for querystring-parser ... \u001b[?25ldone\n",
      "\u001b[?25h  Stored in directory: /home/jupyter/.cache/pip/wheels/ee/09/99/bf937e4f02788fa8b33dc5240842ba3977ba5c3c4ad4a115d7\n",
      "  Running setup.py bdist_wheel for alembic ... \u001b[?25ldone\n",
      "\u001b[?25h  Stored in directory: /home/jupyter/.cache/pip/wheels/8b/65/b2/9837b4422d13e739c3324c428f1b3aa9e3c3df666bb420e4b3\n",
      "  Running setup.py bdist_wheel for tabulate ... \u001b[?25ldone\n",
      "\u001b[?25h  Stored in directory: /home/jupyter/.cache/pip/wheels/2b/67/89/414471314a2d15de625d184d8be6d38a03ae1e983dbda91e84\n",
      "  Running setup.py bdist_wheel for Mako ... \u001b[?25ldone\n",
      "\u001b[?25h  Stored in directory: /home/jupyter/.cache/pip/wheels/b3/7b/ae/5addd138cd8175503b9782737bada30d0c88310d08c106f9bf\n",
      "Successfully built simplejson querystring-parser alembic tabulate Mako\n",
      "Installing collected packages: tabulate, databricks-cli, simplejson, gunicorn, querystring-parser, Mako, python-editor, alembic, itsdangerous, Flask, mlflow\n",
      "Successfully installed Flask-1.0.3 Mako-1.0.12 alembic-1.0.11 databricks-cli-0.8.7 gunicorn-19.9.0 itsdangerous-1.1.0 mlflow-1.0.0 python-editor-1.0.4 querystring-parser-1.2.3 simplejson-3.16.0 tabulate-0.8.3\n"
     ]
    }
   ],
   "source": [
    "!pip3 install pretty_midi bokeh mlflow"
   ]
  },
  {
   "cell_type": "markdown",
   "metadata": {},
   "source": [
    "# Fetch and clean data"
   ]
  },
  {
   "cell_type": "code",
   "execution_count": 23,
   "metadata": {},
   "outputs": [],
   "source": [
    "import pandas as pd\n",
    "from tqdm import tqdm_notebook\n",
    "import pretty_midi\n",
    "import os\n",
    "import shutil"
   ]
  },
  {
   "cell_type": "code",
   "execution_count": 1,
   "metadata": {},
   "outputs": [
    {
     "name": "stdout",
     "output_type": "stream",
     "text": [
      "--2019-06-30 12:37:23--  https://storage.googleapis.com/magentadata/datasets/maestro/v2.0.0/maestro-v2.0.0-midi.zip\n",
      "Resolving storage.googleapis.com (storage.googleapis.com)... 64.233.166.128, 2a00:1450:400c:c0a::80\n",
      "Connecting to storage.googleapis.com (storage.googleapis.com)|64.233.166.128|:443... connected.\n",
      "HTTP request sent, awaiting response... 200 OK\n",
      "Length: 59243107 (56M) [application/zip]\n",
      "Saving to: ‘../data/maestro-v2.0.0-midi.zip’\n",
      "\n",
      "maestro-v2.0.0-midi 100%[===================>]  56.50M  64.9MB/s    in 0.9s    \n",
      "\n",
      "2019-06-30 12:37:25 (64.9 MB/s) - ‘../data/maestro-v2.0.0-midi.zip’ saved [59243107/59243107]\n",
      "\n"
     ]
    }
   ],
   "source": [
    "!wget -P ../data https://storage.googleapis.com/magentadata/datasets/maestro/v2.0.0/maestro-v2.0.0-midi.zip"
   ]
  },
  {
   "cell_type": "code",
   "execution_count": null,
   "metadata": {},
   "outputs": [],
   "source": [
    "!unzip ../data/maestro-v2.0.0-midi.zip -d ../data"
   ]
  },
  {
   "cell_type": "code",
   "execution_count": 5,
   "metadata": {},
   "outputs": [],
   "source": [
    "metadata = pd.read_csv('../data/maestro-v2.0.0/maestro-v2.0.0.csv')"
   ]
  },
  {
   "cell_type": "code",
   "execution_count": 6,
   "metadata": {},
   "outputs": [
    {
     "data": {
      "text/plain": [
       "1282"
      ]
     },
     "execution_count": 6,
     "metadata": {},
     "output_type": "execute_result"
    }
   ],
   "source": [
    "len(metadata)"
   ]
  },
  {
   "cell_type": "code",
   "execution_count": 14,
   "metadata": {},
   "outputs": [
    {
     "data": {
      "application/vnd.jupyter.widget-view+json": {
       "model_id": "5ba56d8de5574d27bd7279404902e93a",
       "version_major": 2,
       "version_minor": 0
      },
      "text/plain": [
       "HBox(children=(IntProgress(value=0, max=1282), HTML(value='')))"
      ]
     },
     "metadata": {},
     "output_type": "display_data"
    },
    {
     "name": "stdout",
     "output_type": "stream",
     "text": [
      "\n"
     ]
    }
   ],
   "source": [
    "songs = []\n",
    "for _, row in tqdm_notebook(list(metadata.iterrows())):\n",
    "    midi = pretty_midi.PrettyMIDI(os.path.join('../data/maestro-v2.0.0', row['midi_filename']))\n",
    "    midi.split = row['split']\n",
    "    songs.append(midi)"
   ]
  },
  {
   "cell_type": "code",
   "execution_count": 18,
   "metadata": {},
   "outputs": [
    {
     "data": {
      "application/vnd.jupyter.widget-view+json": {
       "model_id": "9656c7bf35264412a7c6775a352714f6",
       "version_major": 2,
       "version_minor": 0
      },
      "text/plain": [
       "HBox(children=(IntProgress(value=0, max=1282), HTML(value='')))"
      ]
     },
     "metadata": {},
     "output_type": "display_data"
    },
    {
     "name": "stdout",
     "output_type": "stream",
     "text": [
      "\n"
     ]
    }
   ],
   "source": [
    "shutil.rmtree('../data/songs.txt', ignore_errors=True)\n",
    "with open('../data/songs.txt', 'w') as f:\n",
    "    for midi in tqdm_notebook(songs):\n",
    "        assert len(midi.instruments) == 1\n",
    "        f.write('{split}#{tempo}#{notes}\\n'.format(\n",
    "            split=midi.split, tempo=midi.estimate_tempo(), \n",
    "            notes=[(n.start, n.end, n.pitch, n.velocity) for n in midi.instruments[0].notes]\n",
    "        ))"
   ]
  },
  {
   "cell_type": "code",
   "execution_count": null,
   "metadata": {},
   "outputs": [],
   "source": []
  }
 ],
 "metadata": {
  "kernelspec": {
   "display_name": "Python 3",
   "language": "python",
   "name": "python3"
  },
  "language_info": {
   "codemirror_mode": {
    "name": "ipython",
    "version": 3
   },
   "file_extension": ".py",
   "mimetype": "text/x-python",
   "name": "python",
   "nbconvert_exporter": "python",
   "pygments_lexer": "ipython3",
   "version": "3.5.3"
  }
 },
 "nbformat": 4,
 "nbformat_minor": 2
}
