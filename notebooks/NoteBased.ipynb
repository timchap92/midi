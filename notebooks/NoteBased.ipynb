{
 "cells": [
  {
   "cell_type": "code",
   "execution_count": 4,
   "metadata": {},
   "outputs": [],
   "source": [
    "from tqdm import tqdm_notebook\n",
    "import ast\n",
    "import pretty_midi\n",
    "import numpy as np\n",
    "import datetime as dt\n",
    "\n",
    "import tensorflow as tf\n",
    "from tensorflow import keras\n",
    "from tensorflow.keras.utils import to_categorical\n",
    "from tensorflow.keras.models import Sequential\n",
    "from tensorflow.keras.layers import LSTM, Dense, Dropout, Masking, Embedding\n",
    "from tensorflow.keras.callbacks import EarlyStopping, ModelCheckpoint"
   ]
  },
  {
   "cell_type": "code",
   "execution_count": 5,
   "metadata": {},
   "outputs": [],
   "source": [
    "def process_string(s):\n",
    "    split, tempo, notes = s.split('#')\n",
    "    tempo = float(tempo)\n",
    "    notes = [pretty_midi.Note(start=tpl[0], end=tpl[1], pitch=tpl[2], velocity=tpl[3]) for tpl in ast.literal_eval(notes)]\n",
    "    return split, tempo, notes\n",
    "\n",
    "nb_songs = 0\n",
    "with open('../data/songs.txt') as f:\n",
    "    for line in f:\n",
    "        nb_songs += 1"
   ]
  },
  {
   "cell_type": "code",
   "execution_count": 6,
   "metadata": {},
   "outputs": [
    {
     "data": {
      "application/vnd.jupyter.widget-view+json": {
       "model_id": "99dae0f232e2418fbaba06750f14171a",
       "version_major": 2,
       "version_minor": 0
      },
      "text/plain": [
       "HBox(children=(IntProgress(value=0, max=1341), HTML(value='')))"
      ]
     },
     "metadata": {},
     "output_type": "display_data"
    },
    {
     "name": "stdout",
     "output_type": "stream",
     "text": [
      "\n"
     ]
    }
   ],
   "source": [
    "train_songs = []\n",
    "validation_songs = []\n",
    "with open('../data/songs.txt') as f:\n",
    "    for line in tqdm_notebook(f, total=nb_songs):\n",
    "        split, tempo, notes = process_string(line)\n",
    "        if split == 'train':\n",
    "            train_songs.append(notes)\n",
    "        elif split == 'validation':\n",
    "            validation_songs.append(notes)"
   ]
  },
  {
   "cell_type": "code",
   "execution_count": 7,
   "metadata": {},
   "outputs": [
    {
     "data": {
      "text/plain": [
       "[Note(start=1.016667, end=1.214583, pitch=48, velocity=40),\n",
       " Note(start=1.545833, end=1.780208, pitch=52, velocity=46),\n",
       " Note(start=1.000000, end=2.061458, pitch=79, velocity=72),\n",
       " Note(start=2.060417, end=2.183333, pitch=77, velocity=59),\n",
       " Note(start=2.047917, end=2.247917, pitch=48, velocity=35),\n",
       " Note(start=2.166667, end=2.257292, pitch=76, velocity=65),\n",
       " Note(start=2.262500, end=2.346875, pitch=74, velocity=69),\n",
       " Note(start=2.379167, end=2.622917, pitch=72, velocity=63),\n",
       " Note(start=2.508333, end=2.744792, pitch=50, velocity=44),\n",
       " Note(start=2.542708, end=2.764583, pitch=79, velocity=61)]"
      ]
     },
     "execution_count": 7,
     "metadata": {},
     "output_type": "execute_result"
    }
   ],
   "source": [
    "notes[0:10]"
   ]
  },
  {
   "cell_type": "code",
   "execution_count": 8,
   "metadata": {},
   "outputs": [],
   "source": [
    "def constrain_pitch(pitch, min_pitch, max_pitch):\n",
    "    if pitch < min_pitch:\n",
    "        pitch = pitch % 12 + 12 * (min_pitch // 12) + 12\n",
    "        if pitch >= min_pitch + 12:\n",
    "            pitch -= 12\n",
    "        assert min_pitch <= pitch < min_pitch + 12\n",
    "        return pitch\n",
    "    if pitch > max_pitch:\n",
    "        pitch = pitch % 12 + 12 * (max_pitch // 12) - 12\n",
    "        if pitch <= max_pitch - 12:\n",
    "            pitch += 12\n",
    "        assert max_pitch - 12 < pitch <= max_pitch\n",
    "        return pitch\n",
    "    return pitch"
   ]
  },
  {
   "cell_type": "code",
   "execution_count": 9,
   "metadata": {},
   "outputs": [],
   "source": [
    "class FeaturedNote:\n",
    "    \n",
    "    def __init__(self, pitch, wait):\n",
    "        self.pitch = pitch\n",
    "        self.wait = wait\n",
    "        \n",
    "    def calculate_features(self, min_pitch, max_pitch):\n",
    "        pitch_features = [0] * (max_pitch - min_pitch + 1)  # plus one because out-of-range note is used to start sequence\n",
    "        pitch_features[self.pitch] = 1\n",
    "        self.features = np.array(pitch_features + [self.wait])\n",
    "        \n",
    "        self.pitch_label = np.array(pitch_features)"
   ]
  },
  {
   "cell_type": "code",
   "execution_count": 10,
   "metadata": {},
   "outputs": [],
   "source": [
    "nb_notes_history = 16\n",
    "min_pitch = 45\n",
    "max_pitch = 85\n",
    "nb_pitches = max_pitch - min_pitch + 1  # including out of bounds pitch\n",
    "nb_features = nb_pitches + 1  # including wait"
   ]
  },
  {
   "cell_type": "code",
   "execution_count": 15,
   "metadata": {},
   "outputs": [],
   "source": [
    "def feature_songs(songs, chord_time=0.05):\n",
    "    \n",
    "    nb_datapoints = sum(len(song) for song in songs)\n",
    "    \n",
    "    sequences = -1 * np.ones(shape=(nb_datapoints, nb_notes_history, nb_features))\n",
    "    pitch_labels = -1 * np.ones(shape=(nb_datapoints, nb_pitches))\n",
    "    wait_labels = -1 * np.ones(shape=(nb_datapoints,))\n",
    "    \n",
    "    data_index = 0\n",
    "    \n",
    "    for song in tqdm_notebook(songs):\n",
    "        \n",
    "        # Songs all start at t=0\n",
    "        first_note_start = min(note.start for note in song)\n",
    "        last_note_time = -1  # every song begins after 1 second delay on a out-of-range note\n",
    "        for note in song:\n",
    "            note.start -= first_note_start\n",
    "            note.end -= first_note_start\n",
    "            assert note.start >= last_note_time  # check that notes are sorted\n",
    "            \n",
    "            if note.start >= last_note_time + chord_time:  # simple algorithm to detect chords\n",
    "                note.start = last_note_time\n",
    "            else:\n",
    "                last_note_time = note.start\n",
    "        \n",
    "        chord_corrected_song = []\n",
    "        last_note_time = -1\n",
    "        current_chord = []\n",
    "        for note in song:\n",
    "            if note.start > last_note_time:\n",
    "                if current_chord:\n",
    "                    # chord is finished, sort and add to song\n",
    "                    chord_corrected_song.extend(sorted(current_chord, key=lambda note: note.pitch))\n",
    "                    current_chord = []\n",
    "                else:\n",
    "                    chord_corrected_song.append(note)\n",
    "                    \n",
    "                last_note_time = note.start\n",
    "                continue\n",
    "            \n",
    "            # chord is ongoing\n",
    "            assert note.start == last_note_time\n",
    "            current_chord.append(note)\n",
    "        \n",
    "        first_note = FeaturedNote(pitch=max_pitch - min_pitch, wait=0)\n",
    "        first_note.calculate_features(min_pitch, max_pitch)\n",
    "        featured_notes = [first_note for i in range(nb_notes_history)]\n",
    "        previous_time = -1\n",
    "        for note in song:\n",
    "            pitch = constrain_pitch(note.pitch, min_pitch, max_pitch) - min_pitch\n",
    "            wait = note.start - previous_time\n",
    "            fnote = FeaturedNote(pitch, wait)\n",
    "            fnote.calculate_features(min_pitch, max_pitch)\n",
    "            featured_notes.append(fnote)\n",
    "            previous_time = note.start\n",
    "            \n",
    "        for i in range(nb_notes_history, len(featured_notes)):\n",
    "            sequences[data_index] = np.array([fnote.features for fnote in featured_notes[i - nb_notes_history:i]])\n",
    "            pitch_labels[data_index] = featured_notes[i].pitch_label\n",
    "            wait_labels[data_index] = featured_notes[i].wait\n",
    "            data_index += 1\n",
    "    \n",
    "    return sequences, pitch_labels, wait_labels"
   ]
  },
  {
   "cell_type": "code",
   "execution_count": 16,
   "metadata": {},
   "outputs": [
    {
     "data": {
      "application/vnd.jupyter.widget-view+json": {
       "model_id": "e86e6fc1946a4c6e8d2b9741bef8694f",
       "version_major": 2,
       "version_minor": 0
      },
      "text/plain": [
       "HBox(children=(IntProgress(value=0, max=144), HTML(value='')))"
      ]
     },
     "metadata": {},
     "output_type": "display_data"
    },
    {
     "name": "stdout",
     "output_type": "stream",
     "text": [
      "\n"
     ]
    }
   ],
   "source": [
    "validation_sequences, validation_pitch, validation_wait = feature_songs(validation_songs)"
   ]
  },
  {
   "cell_type": "code",
   "execution_count": 19,
   "metadata": {},
   "outputs": [
    {
     "data": {
      "text/plain": [
       "0.0"
      ]
     },
     "execution_count": 19,
     "metadata": {},
     "output_type": "execute_result"
    }
   ],
   "source": [
    "np.min(validation_wait)"
   ]
  },
  {
   "cell_type": "code",
   "execution_count": 20,
   "metadata": {},
   "outputs": [
    {
     "data": {
      "application/vnd.jupyter.widget-view+json": {
       "model_id": "a134a3cac4884640b3e40425ebd1da3d",
       "version_major": 2,
       "version_minor": 0
      },
      "text/plain": [
       "HBox(children=(IntProgress(value=0, max=1010), HTML(value='')))"
      ]
     },
     "metadata": {},
     "output_type": "display_data"
    },
    {
     "name": "stdout",
     "output_type": "stream",
     "text": [
      "\n"
     ]
    }
   ],
   "source": [
    "train_sequences, train_pitch, train_wait = feature_songs(train_songs)"
   ]
  },
  {
   "cell_type": "code",
   "execution_count": 23,
   "metadata": {},
   "outputs": [
    {
     "data": {
      "text/plain": [
       "0.0"
      ]
     },
     "execution_count": 23,
     "metadata": {},
     "output_type": "execute_result"
    }
   ],
   "source": [
    "np.min(train_sequences)"
   ]
  },
  {
   "cell_type": "code",
   "execution_count": 22,
   "metadata": {},
   "outputs": [
    {
     "data": {
      "text/plain": [
       "(5996034, 41)"
      ]
     },
     "execution_count": 22,
     "metadata": {},
     "output_type": "execute_result"
    }
   ],
   "source": [
    "train_pitch.shape"
   ]
  },
  {
   "cell_type": "code",
   "execution_count": 24,
   "metadata": {},
   "outputs": [],
   "source": [
    "model = Sequential()\n",
    "\n",
    "# Recurrent layer\n",
    "model.add(LSTM(64, input_shape=(nb_notes_history, nb_features),\n",
    "               return_sequences=False, dropout=0.1, recurrent_dropout=0.1))\n",
    "\n",
    "# Fully connected layer\n",
    "model.add(Dense(64, activation='relu'))\n",
    "\n",
    "# Dropout for regularization\n",
    "model.add(Dropout(0.5))\n",
    "\n",
    "# Output layer\n",
    "model.add(Dense(nb_pitches, activation='softmax'))\n",
    "\n",
    "# Compile the model\n",
    "model.compile(\n",
    "    optimizer='adam', loss='categorical_crossentropy', metrics=['accuracy'])"
   ]
  },
  {
   "cell_type": "code",
   "execution_count": 25,
   "metadata": {},
   "outputs": [],
   "source": [
    "run_time = dt.datetime.now().strftime('%Y-%m-%d_%H:%M:%S')"
   ]
  },
  {
   "cell_type": "code",
   "execution_count": 26,
   "metadata": {},
   "outputs": [
    {
     "data": {
      "text/plain": [
       "'2019-06-30_00:19:50'"
      ]
     },
     "execution_count": 26,
     "metadata": {},
     "output_type": "execute_result"
    }
   ],
   "source": [
    "run_time"
   ]
  },
  {
   "cell_type": "code",
   "execution_count": 27,
   "metadata": {},
   "outputs": [],
   "source": [
    "# Create callbacks\n",
    "callbacks = [keras.callbacks.TensorBoard(log_dir='tb_logs/notebased_featuresv1_{}'.format(run_time), histogram_freq=0, write_graph=True, write_grads=False, \n",
    "                                         write_images=False, embeddings_freq=0, embeddings_layer_names=None, embeddings_metadata=None, \n",
    "                                         embeddings_data=None, update_freq='batch'),\n",
    "             EarlyStopping(monitor='val_loss', patience=5),\n",
    "             ModelCheckpoint('models/notebased_featuresv1_{}.h5'.format(run_time), save_best_only=True, save_weights_only=False)]"
   ]
  },
  {
   "cell_type": "code",
   "execution_count": 28,
   "metadata": {},
   "outputs": [
    {
     "data": {
      "text/plain": [
       "(5996034, 16, 42)"
      ]
     },
     "execution_count": 28,
     "metadata": {},
     "output_type": "execute_result"
    }
   ],
   "source": [
    "train_sequences.shape"
   ]
  },
  {
   "cell_type": "code",
   "execution_count": null,
   "metadata": {},
   "outputs": [
    {
     "name": "stderr",
     "output_type": "stream",
     "text": [
      "WARNING: Logging before flag parsing goes to stderr.\n",
      "W0630 00:20:39.629843 140479974627072 deprecation.py:323] From /usr/local/lib/python3.5/dist-packages/tensorflow/python/ops/math_grad.py:1250: add_dispatch_support.<locals>.wrapper (from tensorflow.python.ops.array_ops) is deprecated and will be removed in a future version.\n",
      "Instructions for updating:\n",
      "Use tf.where in 2.0, which has the same broadcast rule as np.where\n"
     ]
    },
    {
     "name": "stdout",
     "output_type": "stream",
     "text": [
      "Train on 5996034 samples, validate on 660126 samples\n",
      "Epoch 1/5\n",
      " 899072/5996034 [===>..........................] - ETA: 14:37 - loss: 3.3973 - accuracy: 0.0891"
     ]
    }
   ],
   "source": [
    "history = model.fit(train_sequences,  train_pitch, \n",
    "                    batch_size=2048, epochs=5,\n",
    "                    callbacks=callbacks,\n",
    "                    validation_data=(validation_sequences, validation_pitch))"
   ]
  },
  {
   "cell_type": "code",
   "execution_count": null,
   "metadata": {},
   "outputs": [],
   "source": []
  }
 ],
 "metadata": {
  "kernelspec": {
   "display_name": "Python 3",
   "language": "python",
   "name": "python3"
  },
  "language_info": {
   "codemirror_mode": {
    "name": "ipython",
    "version": 3
   },
   "file_extension": ".py",
   "mimetype": "text/x-python",
   "name": "python",
   "nbconvert_exporter": "python",
   "pygments_lexer": "ipython3",
   "version": "3.5.3"
  }
 },
 "nbformat": 4,
 "nbformat_minor": 2
}
